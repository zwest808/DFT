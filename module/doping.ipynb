{
 "cells": [
  {
   "cell_type": "markdown",
   "metadata": {},
   "source": [
    "#### Volume Calculation for Wurtzite AlN"
   ]
  },
  {
   "cell_type": "markdown",
   "metadata": {},
   "source": [
    "Intrinsic AlN lattice parameters:\n",
    "- $a = 3.11 \\, \\text{Å}$\n",
    "- $c = 4.98 \\, \\text{Å}$\n",
    "\n",
    "The volume $V$ of a wurtzite unit cell is given by:\n",
    "\n",
    "$V = \\frac{\\sqrt{3}}{2} \\cdot a^2 \\cdot c$\n",
    "\n",
    "Substituting the values:\n",
    "\n",
    "$V_{AlN} = \\frac{\\sqrt{3}}{2} \\cdot (3.11 \\, \\text{Å})^2 \\cdot 4.98 \\, \\text{Å} = 41.717 \\ \\text{Å}^3$"
   ]
  },
  {
   "cell_type": "markdown",
   "metadata": {},
   "source": [
    "### Doping concentration"
   ]
  },
  {
   "cell_type": "markdown",
   "metadata": {},
   "source": [
    "Substitutional doping of Mg and Zn in AlN introduces acceptor levels, leading to p-type conductivity by generating holes. In contrast, interstitial doping of Mg and Zn may introduce donor levels, potentially resulting in n-type conductivity by adding free electrons. Given the relative atomic masses of Mg (~24 amu) and Zn (~65 amu) compared to Al and N in AlN (~27 amu and ~14 amu, respectively), interstitial doping of Mg or Zn is likely to significantly distort the wurtzite structure of AlN. To accommodate these dopants and minimize structural distortion, we introduce a supercell ($n_1 \\times n_2 \\times n_3$) with a subset of doped cells."
   ]
  },
  {
   "cell_type": "markdown",
   "metadata": {},
   "source": []
  },
  {
   "cell_type": "markdown",
   "metadata": {},
   "source": [
    "Therefore, we define DFT input files in this supercell form and randomly permute , . However, the template paper exploring interstitial H doping in tantalum phosphide (TaP) samples and relaxes 1000 randomly-positioned H atoms in the unit cell; this sample size is viable due to H's relatively small size (~1 amu) but the relative size of Mg and Zn in AlN is much greater, therefore less sampling points are required."
   ]
  },
  {
   "cell_type": "markdown",
   "metadata": {},
   "source": [
    "# Defect Formation Energy in AlN Supercell with Mg/Zn Doping\n",
    "\n",
    "In this notebook, we will calculate the defect formation energy for an AlN supercell with Mg or Zn doping. The defect formation energy $E_f$ is given by the following formula:\n",
    "\n",
    "## Defect Formation Energy Formula\n",
    "\n",
    "The defect formation energy $E_f$ is given by:\n",
    "\n",
    "$E_f = E_{\\text{tot}}[X^q] - E_{\\text{tot}}[\\text{AlN, bulk}] - \\sum_i n_i \\mu_i + q(E_F + E_V + \\Delta V(X))$\n",
    "\n",
    "where:\n",
    "\n",
    "- $E_{\\text{tot}}[X^q]$ is the total energy of the defect-containing AlN supercell.\n",
    "- $E_{\\text{tot}}[\\text{AlN, bulk}]$ is the total energy of the similar supercell of AlN without defects.\n",
    "- $n_i$ is the number of atoms of type $i$ (host atoms or impurity atoms) that have been added to $n_i > 0$ or removed from $n_i < 0$ the supercell.\n",
    "- $\\mu_i$ are the corresponding chemical potentials of these species.\n",
    "- $E_F$ is the Fermi level, referenced to the valence-band maximum $E_V$ in the bulk.\n",
    "- $\\Delta V(X)$ is a correction term to align the reference potential in our defect supercell with that in the bulk.\n",
    "\n",
    "### Example Calculation\n",
    "\n",
    "Assume you have the following data:\n",
    "\n",
    "- Total energy of the defected AlN supercell $E_{\\text{tot}}[X^q]$: -362.18 Ry\n",
    "- Total energy of the pristine AlN supercell $E_{\\text{tot}}[\\text{AlN, bulk}]$: -205.18 Ry\n",
    "- Chemical potential of Al $\\mu_{\\text{Al}}$: -13.4567 Ry\n",
    "- Chemical potential of Mg $\\mu_{\\text{Mg}}$: -15.1234 Ry\n",
    "- Chemical potential of Zn $\\mu_{\\text{Zn}}$: -14.9876 Ry\n",
    "- Fermi level $E_F$: 6.6 Ry\n",
    "- Valence-band maximum $E_V$: -0.3 Ry\n",
    "- Potential alignment correction $\\Delta V(X)$: 0.05 Ry\n",
    "\n",
    "For a system with one Al atom removed (vacancy, $n_{\\text{Al}} = -1$) and one Mg atom added (substitution, $n_{\\text{Mg}} = +1$):\n",
    "\n",
    "$E_f = E_{\\text{tot}}[X^q] - E_{\\text{tot}}[\\text{AlN, bulk}] + n_{\\text{Al}} \\mu_{\\text{Al}} + n_{\\text{Mg}} \\mu_{\\text{Mg}} + q(E_F + E_V + \\Delta V(X))$\n",
    "\n",
    "Substitute the values:\n",
    "\n",
    "$E_f = -362.18 \\, \\text{Ry} - (-205.18 \\, \\text{Ry}) + (-1 \\times -13.4567 \\, \\text{Ry}) + (1 \\times -15.1234 \\, \\text{Ry}) + 1 \\times (6.6 + -0.3 + 0.05) \\, \\text{Ry}$\n",
    "\n",
    "$E_f = 16.1110 \\, \\text{Ry} + 13.4567 \\, \\text{Ry} + (-15.1234 \\, \\text{Ry}) + (-0.75) \\, \\text{Ry}$\n",
    "\n",
    "$E_f = 13.6943 \\, \\text{Ry}$\n",
    "\n",
    "### Adjust for Zn Doping Example\n",
    "\n",
    "To calculate the defect formation energy for Zn doping:\n",
    "\n",
    "- Number of Mg atoms added $n_{\\text{Mg}}$: 0\n",
    "- Number of Zn atoms added $n_{\\text{Zn}}$: 1\n",
    "\n",
    "The formula becomes:\n",
    "\n",
    "$E_f = E_{\\text{tot}}[X^q] - E_{\\text{tot}}[\\text{AlN, bulk}] + n_{\\text{Al}} \\mu_{\\text{Al}} + n_{\\text{Zn}} \\mu_{\\text{Zn}} + q(E_F + E_V + \\Delta V(X))$\n",
    "\n",
    "Substitute the values:\n",
    "\n",
    "$E_f = -362.18 \\, \\text{Ry} - (-205.18 \\, \\text{Ry}) + (-1 \\times -13.4567 \\, \\text{Ry}) + (1 \\times -14.9876 \\, \\text{Ry}) + 1 \\times (6.6 + -0.3 + 0.05) \\, \\text{Ry}$\n",
    "\n",
    "$E_f = 16.1110\\, \\text{Ry} + 13.4567 \\, \\text{Ry} + (-14.9876 \\, \\text{Ry}) + (-0.75) \\, \\text{Ry}$\n",
    "\n",
    "$E_f = 13.8291 \\, \\text{Ry}$\n"
   ]
  },
  {
   "cell_type": "markdown",
   "metadata": {},
   "source": [
    "The Fu-Kane model can be represented using a Hamiltonian that captures the essential physics of a 3D topological insulator. The Hamiltonian typically includes terms that account for the kinetic energy, mass, and spin-orbit coupling. A common form of the Hamiltonian is:\n",
    "M(\\mathbf{k}) \\sigma_z & A(\\mathbf{k}) \\sigma_x \\\\\n",
    "A^*(\\mathbf{k}) \\sigma_x & -M(\\mathbf{k}) \\sigma_z\n",
    "\\end{pmatrix} \\]\n",
    "where:\n",
    "- $\\epsilon(\\mathbf{k})$ is a function that shifts the energy bands uniformly.\n",
    "- $I_{4 \\times 4}$ is the $4 \\times 4$ identity matrix.\n",
    "- $M(\\mathbf{k}) = M_0 - Bk^2$ represents the mass term that can change sign, leading to band inversion.\n",
    "- $A(\\mathbf{k}) = A (k_x \\sigma_x + k_y \\sigma_y + k_z \\sigma_z)$ represents the coupling between the spin and momentum.\n",
    "Here, $\\sigma_x$, $\\sigma_y$, and $\\sigma_z$ are the Pauli matrices, and $\\mathbf{k} = (k_x, k_y, k_z)$ is the crystal momentum.\n",
    "#### Band Inversion\n",
    "The band inversion mechanism is crucial for the formation of topological insulators. In the Fu-Kane model:\n",
    "- The mass term $M(\\mathbf{k})$ can change sign, which indicates a transition from a normal insulator to a topological insulator.\n",
    "- When $M_0 > 0$ and $B > 0$, the system is in a topological insulator phase, where the conduction and valence bands invert at certain points in the Brillouin zone (e.g., the $\\Gamma$ point).\n",
    "#### $\\mathbb{Z}_2$ Topological Invariant\n",
    "The $\\mathbb{Z}_2$ invariant is a topological quantity that distinguishes between trivial and non-trivial topological phases. It can be calculated using the parity of the occupied bands at time-reversal invariant momentum (TRIM) points.\n",
    "1. **TRIM Points**: Points in the Brillouin zone where $\\mathbf{k} = \\frac{\\pi}{a}(n_x, n_y, n_z)$ with $n_x, n_y, n_z \\in \\{0, 1\\}$.\n",
    "2. **Parity Eigenvalues**: Determine the parity eigenvalues ($\\pm 1$) of the occupied bands at these TRIM points.\n",
    "3. **$\\mathbb{Z}_2$ Invariant Calculation**:\n",
    "- The $\\mathbb{Z}_2$ invariant $\\nu$ can be computed using the parity eigenvalues:\n",
    "\\[ (-1)^\\nu = \\prod_{i=1}^{8} \\prod_{m \\leq N/2} \\xi_{2m}(K_i) \\]\n",
    "where $\\xi_{2m}(K_i)$ is the parity eigenvalue of the 2m-th band at the $i$-th TRIM point.\n",
    "### Surface States\n",
    "The Fu-Kane model predicts the existence of robust, gapless surface states in topological insulators. These surface states are protected by time-reversal symmetry and exhibit a linear energy dispersion relation, forming Dirac cones.\n",
    "1. **Dirac Cone**: The surface states have a linear energy dispersion relation, $ E(\\mathbf{k}) = \\hbar v_F |\\mathbf{k}| $, where $v_F$ is the Fermi velocity.\n",
    "2. **Spin-Momentum Locking**: In these surface states, the electron’s spin is locked to its momentum, meaning the direction of an electron's spin is determined by its direction of motion. This leads to robust surface conduction channels that are resistant to backscattering by non-magnetic impurities.\n",
    "### Summary\n",
    "The Fu-Kane model provides a comprehensive framework for understanding 3D topological insulators. The key elements include:\n",
    "- **Hamiltonian Formulation**: Describes the system using a combination of kinetic energy, mass terms, and spin-orbit coupling.\n",
    "- **Band Inversion**: Essential for the formation of topological insulators, where the conduction and valence bands invert.\n",
    "- **$\\mathbb{Z}_2$ Topological Invariant**: A topological quantity used to classify the material as a trivial or non-trivial insulator.\n",
    "- **Surface States**: Robust, gapless states that are protected by time-reversal symmetry and exhibit spin-momentum locking.\n",
    "This model has significant implications for materials science and condensed matter physics, providing insights into the unique electronic properties of topological insulators and paving the way for applications in spintronics and quantum computing."
   ]
  },
  {
   "cell_type": "markdown",
   "metadata": {},
   "source": []
  }
 ],
 "metadata": {
  "kernelspec": {
   "display_name": "Python 3",
   "language": "python",
   "name": "python3"
  },
  "language_info": {
   "codemirror_mode": {
    "name": "ipython",
    "version": 3
   },
   "file_extension": ".py",
   "mimetype": "text/x-python",
   "name": "python",
   "nbconvert_exporter": "python",
   "pygments_lexer": "ipython3",
   "version": "3.11.5"
  }
 },
 "nbformat": 4,
 "nbformat_minor": 2
}
