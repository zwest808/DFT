{
 "cells": [
  {
   "cell_type": "code",
   "execution_count": 21,
   "metadata": {},
   "outputs": [
    {
     "name": "stdout",
     "output_type": "stream",
     "text": [
      "[-6.3106, 0.0, 6.3106]\n",
      "3.2263060300000115\n"
     ]
    },
    {
     "data": {
      "text/plain": [
       "\"formation_energies = [calculate_formation_energy(E_defect, E_perfect, n_atoms, mu_atoms, last_term) for E_F in E_F_range]\\n\\n# Plotting the formation energy as a function of Fermi level\\nplt.figure(figsize=(8, 6))\\nplt.plot(E_F_range, formation_energies, label=f'Charge state: {q}')\\nplt.axvline(x=E_VBM, color='r', linestyle='--', label='VBM')\\nplt.xlabel('Fermi Level (eV)')\\nplt.ylabel('Formation Energy (eV)')\\nplt.title('Defect Formation Energy vs Fermi Level')\\nplt.legend()\\nplt.grid(True)\\nplt.show()\\n\""
      ]
     },
     "execution_count": 21,
     "metadata": {},
     "output_type": "execute_result"
    }
   ],
   "source": [
    "import numpy as np\n",
    "import matplotlib.pyplot as plt\n",
    "\n",
    "def calculate_formation_energy(E_defect, E_perfect, n_atoms, mu_atoms, last_term):\n",
    "    # E_defect: Total energy of the system with the defect\n",
    "    # E_perfect: Total energy of the perfect (defect-free) system\n",
    "    # n_atoms: List of number of atoms added (positive) or removed (negative) for each species\n",
    "    # mu_atoms: List of chemical potentials corresponding to each species\n",
    "    # q: Charge state of the defect\n",
    "    # E_F: Fermi level (relative to the VBM)\n",
    "    # E_VBM: Valence band maximum energy of the perfect system\n",
    "    # delta_V: Potential alignment correction\n",
    "    \n",
    "    # Calculate formation energy\n",
    "    formation_energy = E_defect - E_perfect + sum([n * mu for n, mu in zip(n_atoms, mu_atoms)]) + last_term\n",
    "    return formation_energy\n",
    "\n",
    "# AlN codope\n",
    "E_defect = 469.09858536  # eV, energy of the defect system\n",
    "E_perfect = 205.19552933  # eV, energy of the perfect system\n",
    "n_atoms = [-2, 1, 1]  # Example: removing one Al atom\n",
    "mu_atoms = [-10.0731, -126.5021, -148.01025] # chemical potentials of Al, Mg, and Zn in eV respectively\n",
    "q = 1  # Charge state of the defect\n",
    "E_f = -.3 #9.1563\n",
    "E_f_actual = 6.8106\n",
    "E_VBM = E_f+E_f_actual  # Valence band maximum energy in eV (relative to E_f)\n",
    "charges = [-1, 0, 1]\n",
    "E_F_range = np.linspace(0, 6.2, 100)  # Range of Fermi levels from VBM to CBM\n",
    "delta_V = 0.1  # eV, potential alignment correction (this would usually be calculated)\n",
    "charge_terms = [charge*(E_f + delta_V + E_VBM) for charge in charges]\n",
    "print(charge_terms)\n",
    "last_term = np.min(charge_terms)\n",
    "\n",
    "form_energy = calculate_formation_energy(E_defect, E_perfect, n_atoms, mu_atoms, last_term)\n",
    "print(form_energy)\n",
    "# Calculate formation energies for different Fermi levels\n",
    "\"\"\"formation_energies = [calculate_formation_energy(E_defect, E_perfect, n_atoms, mu_atoms, last_term) for E_F in E_F_range]\n",
    "\n",
    "# Plotting the formation energy as a function of Fermi level\n",
    "plt.figure(figsize=(8, 6))\n",
    "plt.plot(E_F_range, formation_energies, label=f'Charge state: {q}')\n",
    "plt.axvline(x=E_VBM, color='r', linestyle='--', label='VBM')\n",
    "plt.xlabel('Fermi Level (eV)')\n",
    "plt.ylabel('Formation Energy (eV)')\n",
    "plt.title('Defect Formation Energy vs Fermi Level')\n",
    "plt.legend()\n",
    "plt.grid(True)\n",
    "plt.show()\n",
    "\"\"\""
   ]
  },
  {
   "cell_type": "code",
   "execution_count": null,
   "metadata": {},
   "outputs": [],
   "source": [
    "# \n",
    "E_defect = 326.43092894  # eV, energy of the defect system\n",
    "E_perfect = 205.19552933  # eV, energy of the perfect system\n",
    "n_atoms = [-1, 1]  # Example: removing one Al atom\n",
    "mu_atoms = [-10.0731, -126.5021, -148.01025] # chemical potentials of Al, Mg, and Zn in eV respectively\n",
    "q = 1  # Charge state of the defect\n",
    "E_f = -.3 #9.1563\n",
    "E_f_actual = 6.8106\n",
    "E_VBM = E_f+E_f_actual  # Valence band maximum energy in eV (relative to E_f)\n",
    "charges = [-1, 0, 1]\n",
    "E_F_range = np.linspace(0, 6.2, 100)  # Range of Fermi levels from VBM to CBM (e.g., for AlN)\n",
    "delta_V = 0.1  # eV, potential alignment correction (this would usually be calculated)\n",
    "charge_terms = [charge*(E_f + delta_V + E_VBM) for charge in charges]\n",
    "print(charge_terms)\n",
    "last_term = np.min(charge_terms)\n",
    "\n",
    "form_energy = calculate_formation_energy(E_defect, E_perfect, n_atoms, mu_atoms, last_term)\n",
    "print(form_energy)\n",
    "# Calculate formation energies for different Fermi levels\n",
    "\"\"\"formation_energies = [calculate_formation_energy(E_defect, E_perfect, n_atoms, mu_atoms, last_term) for E_F in E_F_range]\n",
    "\n",
    "# Plotting the formation energy as a function of Fermi level\n",
    "plt.figure(figsize=(8, 6))\n",
    "plt.plot(E_F_range, formation_energies, label=f'Charge state: {q}')\n",
    "plt.axvline(x=E_VBM, color='r', linestyle='--', label='VBM')\n",
    "plt.xlabel('Fermi Level (eV)')\n",
    "plt.ylabel('Formation Energy (eV)')\n",
    "plt.title('Defect Formation Energy vs Fermi Level')\n",
    "plt.legend()\n",
    "plt.grid(True)\n",
    "plt.show()\n",
    "\"\"\""
   ]
  }
 ],
 "metadata": {
  "kernelspec": {
   "display_name": "Python 3",
   "language": "python",
   "name": "python3"
  },
  "language_info": {
   "codemirror_mode": {
    "name": "ipython",
    "version": 3
   },
   "file_extension": ".py",
   "mimetype": "text/x-python",
   "name": "python",
   "nbconvert_exporter": "python",
   "pygments_lexer": "ipython3",
   "version": "3.11.5"
  }
 },
 "nbformat": 4,
 "nbformat_minor": 2
}
